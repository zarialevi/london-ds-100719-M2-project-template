{
 "cells": [
  {
   "cell_type": "code",
   "execution_count": 2,
   "metadata": {},
   "outputs": [],
   "source": [
    "import sqlite3 \n",
    "import pandas as pd\n",
    "pd.options.display.float_format = '{:.2f}'.format\n",
    "# from lib import MongoHandler, WeatherGetter\n",
    "conn = sqlite3.connect('database.sqlite')\n",
    "cur = conn.cursor()"
   ]
  },
  {
   "cell_type": "code",
   "execution_count": 3,
   "metadata": {},
   "outputs": [
    {
     "data": {
      "text/html": [
       "<div>\n",
       "<style scoped>\n",
       "    .dataframe tbody tr th:only-of-type {\n",
       "        vertical-align: middle;\n",
       "    }\n",
       "\n",
       "    .dataframe tbody tr th {\n",
       "        vertical-align: top;\n",
       "    }\n",
       "\n",
       "    .dataframe thead th {\n",
       "        text-align: right;\n",
       "    }\n",
       "</style>\n",
       "<table border=\"1\" class=\"dataframe\">\n",
       "  <thead>\n",
       "    <tr style=\"text-align: right;\">\n",
       "      <th></th>\n",
       "      <th>Date</th>\n",
       "      <th>HomeTeam</th>\n",
       "      <th>FTHG</th>\n",
       "      <th>AwayTeam</th>\n",
       "      <th>FTAG</th>\n",
       "      <th>FTR</th>\n",
       "      <th>Match_ID</th>\n",
       "    </tr>\n",
       "  </thead>\n",
       "  <tbody>\n",
       "    <tr>\n",
       "      <th>0</th>\n",
       "      <td>2012-03-31</td>\n",
       "      <td>Nurnberg</td>\n",
       "      <td>0</td>\n",
       "      <td>Bayern Munich</td>\n",
       "      <td>1</td>\n",
       "      <td>A</td>\n",
       "      <td>1092</td>\n",
       "    </tr>\n",
       "    <tr>\n",
       "      <th>177</th>\n",
       "      <td>2011-09-17</td>\n",
       "      <td>Bolton</td>\n",
       "      <td>1</td>\n",
       "      <td>Norwich</td>\n",
       "      <td>2</td>\n",
       "      <td>A</td>\n",
       "      <td>44536</td>\n",
       "    </tr>\n",
       "    <tr>\n",
       "      <th>178</th>\n",
       "      <td>2011-09-17</td>\n",
       "      <td>Wolves</td>\n",
       "      <td>0</td>\n",
       "      <td>QPR</td>\n",
       "      <td>3</td>\n",
       "      <td>A</td>\n",
       "      <td>44539</td>\n",
       "    </tr>\n",
       "    <tr>\n",
       "      <th>179</th>\n",
       "      <td>2011-09-24</td>\n",
       "      <td>Wigan</td>\n",
       "      <td>1</td>\n",
       "      <td>Tottenham</td>\n",
       "      <td>2</td>\n",
       "      <td>A</td>\n",
       "      <td>44551</td>\n",
       "    </tr>\n",
       "    <tr>\n",
       "      <th>180</th>\n",
       "      <td>2011-10-01</td>\n",
       "      <td>Blackburn</td>\n",
       "      <td>0</td>\n",
       "      <td>Man City</td>\n",
       "      <td>4</td>\n",
       "      <td>A</td>\n",
       "      <td>44555</td>\n",
       "    </tr>\n",
       "  </tbody>\n",
       "</table>\n",
       "</div>"
      ],
      "text/plain": [
       "           Date   HomeTeam  FTHG       AwayTeam  FTAG FTR  Match_ID\n",
       "0    2012-03-31   Nurnberg     0  Bayern Munich     1   A      1092\n",
       "177  2011-09-17     Bolton     1        Norwich     2   A     44536\n",
       "178  2011-09-17     Wolves     0            QPR     3   A     44539\n",
       "179  2011-09-24      Wigan     1      Tottenham     2   A     44551\n",
       "180  2011-10-01  Blackburn     0       Man City     4   A     44555"
      ]
     },
     "execution_count": 3,
     "metadata": {},
     "output_type": "execute_result"
    }
   ],
   "source": [
    "cur.execute(\"\"\"SELECT DISTINCT Date, HomeTeam, FTHG, AwayTeam, FTAG, FTR, match_id\n",
    "                FROM teams_in_matches\n",
    "                JOIN unique_teams\n",
    "                USING(unique_team_id)\n",
    "                JOIN matches\n",
    "                USING (match_id)\n",
    "                WHERE season IN (SELECT season\n",
    "                                    FROM matches \n",
    "                                    WHERE season == '2011')\n",
    "               ORDER BY ftr\n",
    "                \"\"\")\n",
    "\n",
    "df = pd.DataFrame(cur.fetchall())\n",
    "df.columns = [i[0] for i in cur.description]\n",
    "df = df.sort_values(by=['FTR'])\n",
    "df.head()"
   ]
  },
  {
   "cell_type": "code",
   "execution_count": 4,
   "metadata": {},
   "outputs": [],
   "source": [
    "#AWAY WINS\n",
    "\n",
    "cur.execute(\"\"\"SELECT DISTINCT match_id, AwayTeam \n",
    "                FROM teams_in_matches\n",
    "                JOIN unique_teams\n",
    "                USING(unique_team_id)\n",
    "                JOIN matches\n",
    "                USING (match_id)\n",
    "                WHERE season IN (SELECT season\n",
    "                                    FROM matches \n",
    "                                    WHERE season == '2011')\n",
    "               AND\n",
    "               ftr = 'A'   \n",
    "            \"\"\")\n",
    "\n",
    "away_df = pd.DataFrame(cur.fetchall())\n",
    "away_df.columns = [i[0] for i in cur.description]\n",
    "away_df = away_df.groupby(away_df['AwayTeam']).count()"
   ]
  },
  {
   "cell_type": "code",
   "execution_count": 5,
   "metadata": {},
   "outputs": [],
   "source": [
    "#HOME WINS\n",
    "cur.execute(\"\"\"SELECT DISTINCT match_id, HomeTeam \n",
    "                FROM teams_in_matches\n",
    "                JOIN unique_teams\n",
    "                USING(unique_team_id)\n",
    "                JOIN matches\n",
    "                USING (match_id)\n",
    "                WHERE season IN (SELECT season\n",
    "                                    FROM matches \n",
    "                                    WHERE season == '2011')\n",
    "               AND\n",
    "               ftr = 'H'   \n",
    "            \"\"\")\n",
    "\n",
    "home_df = pd.DataFrame(cur.fetchall())\n",
    "home_df.columns = [i[0] for i in cur.description]\n",
    "home_df = home_df.groupby(home_df['HomeTeam']).count()"
   ]
  },
  {
   "cell_type": "code",
   "execution_count": 6,
   "metadata": {},
   "outputs": [
    {
     "data": {
      "text/html": [
       "<div>\n",
       "<style scoped>\n",
       "    .dataframe tbody tr th:only-of-type {\n",
       "        vertical-align: middle;\n",
       "    }\n",
       "\n",
       "    .dataframe tbody tr th {\n",
       "        vertical-align: top;\n",
       "    }\n",
       "\n",
       "    .dataframe thead th {\n",
       "        text-align: right;\n",
       "    }\n",
       "</style>\n",
       "<table border=\"1\" class=\"dataframe\">\n",
       "  <thead>\n",
       "    <tr style=\"text-align: right;\">\n",
       "      <th></th>\n",
       "      <th>Match_ID_Home</th>\n",
       "      <th>Match_ID_Away</th>\n",
       "      <th>Total_Wins</th>\n",
       "    </tr>\n",
       "    <tr>\n",
       "      <th>HomeTeam</th>\n",
       "      <th></th>\n",
       "      <th></th>\n",
       "      <th></th>\n",
       "    </tr>\n",
       "  </thead>\n",
       "  <tbody>\n",
       "    <tr>\n",
       "      <th>Aachen</th>\n",
       "      <td>4</td>\n",
       "      <td>2</td>\n",
       "      <td>6</td>\n",
       "    </tr>\n",
       "    <tr>\n",
       "      <th>Arsenal</th>\n",
       "      <td>12</td>\n",
       "      <td>9</td>\n",
       "      <td>21</td>\n",
       "    </tr>\n",
       "    <tr>\n",
       "      <th>Aston Villa</th>\n",
       "      <td>4</td>\n",
       "      <td>3</td>\n",
       "      <td>7</td>\n",
       "    </tr>\n",
       "    <tr>\n",
       "      <th>Augsburg</th>\n",
       "      <td>6</td>\n",
       "      <td>2</td>\n",
       "      <td>8</td>\n",
       "    </tr>\n",
       "    <tr>\n",
       "      <th>Bayern Munich</th>\n",
       "      <td>14</td>\n",
       "      <td>9</td>\n",
       "      <td>23</td>\n",
       "    </tr>\n",
       "  </tbody>\n",
       "</table>\n",
       "</div>"
      ],
      "text/plain": [
       "               Match_ID_Home  Match_ID_Away  Total_Wins\n",
       "HomeTeam                                               \n",
       "Aachen                     4              2           6\n",
       "Arsenal                   12              9          21\n",
       "Aston Villa                4              3           7\n",
       "Augsburg                   6              2           8\n",
       "Bayern Munich             14              9          23"
      ]
     },
     "execution_count": 6,
     "metadata": {},
     "output_type": "execute_result"
    }
   ],
   "source": [
    "#TOTAL WINS\n",
    "\n",
    "df_wins = home_df.join(away_df, lsuffix='_Home', rsuffix='_Away')\n",
    "df_wins\n",
    "\n",
    "total_wins = []\n",
    "home_wins = df_wins['Match_ID_Home']\n",
    "away_wins = df_wins['Match_ID_Away']\n",
    "\n",
    "\n",
    "for item in df_wins.index:\n",
    "    wins = home_wins[item] + away_wins[item]\n",
    "    total_wins.append(wins)\n",
    "\n",
    "df_wins['Total_Wins'] = total_wins\n",
    "df_wins.head()"
   ]
  },
  {
   "cell_type": "code",
   "execution_count": 7,
   "metadata": {},
   "outputs": [],
   "source": [
    "#DRAWS\n",
    "cur.execute(\"\"\"SELECT DISTINCT match_id, HomeTeam, FTHG, AwayTeam, FTAG\n",
    "                FROM teams_in_matches\n",
    "                JOIN unique_teams\n",
    "                USING(unique_team_id)\n",
    "                JOIN matches\n",
    "                USING (match_id)\n",
    "                WHERE season IN (SELECT season\n",
    "                                    FROM matches \n",
    "                                    WHERE season == '2011')\n",
    "               AND\n",
    "               ftr = 'D'   \n",
    "            \"\"\")\n",
    "\n",
    "draws_df = pd.DataFrame(cur.fetchall())\n",
    "draws_df.columns = [i[0] for i in cur.description]\n",
    "draws_df = draws_df.groupby(draws_df['AwayTeam'])\n",
    "draws_df.head()\n",
    "\n",
    "# home = draws_df['HomeTeam'].count()\n",
    "# home\n",
    "away = draws_df['AwayTeam'].count()\n",
    "df_wins['Draws'] = away"
   ]
  },
  {
   "cell_type": "code",
   "execution_count": 8,
   "metadata": {},
   "outputs": [],
   "source": [
    "#Home Losses\n",
    "from pandasql import sqldf\n",
    "pysqldf = lambda q: sqldf(q, globals())\n",
    "\n",
    "q =\"\"\"SELECT COUNT(HomeTeam), HomeTeam\n",
    "        FROM df\n",
    "        WHERE FTR = 'A'\n",
    "        GROUP BY HomeTeam       \n",
    "    \"\"\"\n",
    "\n",
    "results = pysqldf(q)\n",
    "df3 = pd.DataFrame(results)"
   ]
  },
  {
   "cell_type": "code",
   "execution_count": 9,
   "metadata": {},
   "outputs": [],
   "source": [
    "#Away Losses\n",
    "from pandasql import sqldf\n",
    "pysqldf = lambda q: sqldf(q, globals())\n",
    "\n",
    "q =\"\"\"SELECT COUNT(AwayTeam), AwayTeam\n",
    "        FROM df\n",
    "        WHERE FTR = 'H'\n",
    "        GROUP BY AwayTeam        \n",
    "    \"\"\"\n",
    "\n",
    "results = pysqldf(q)\n",
    "df4 = pd.DataFrame(results)"
   ]
  },
  {
   "cell_type": "code",
   "execution_count": 10,
   "metadata": {},
   "outputs": [],
   "source": [
    "df_losses = home_df.join(away_df, lsuffix='_Home', rsuffix='_Away')\n",
    "df_losses.columns = ['Home_Losses', 'Away_Losses']"
   ]
  },
  {
   "cell_type": "code",
   "execution_count": 11,
   "metadata": {},
   "outputs": [],
   "source": [
    "#TOTAL LOSSES\n",
    "total_losses = []\n",
    "home_losses = df_losses['Home_Losses']\n",
    "away_losses = df_losses['Away_Losses']\n",
    "\n",
    "\n",
    "for item in df_losses.index:\n",
    "    loss = home_losses[item] + away_losses[item]\n",
    "    total_losses.append(loss)\n",
    "\n",
    "df_losses['Total_losses'] = total_losses\n",
    "df_wins['Total_Losses'] = df_losses['Total_losses']"
   ]
  },
  {
   "cell_type": "code",
   "execution_count": 12,
   "metadata": {},
   "outputs": [
    {
     "data": {
      "text/html": [
       "<div>\n",
       "<style scoped>\n",
       "    .dataframe tbody tr th:only-of-type {\n",
       "        vertical-align: middle;\n",
       "    }\n",
       "\n",
       "    .dataframe tbody tr th {\n",
       "        vertical-align: top;\n",
       "    }\n",
       "\n",
       "    .dataframe thead th {\n",
       "        text-align: right;\n",
       "    }\n",
       "</style>\n",
       "<table border=\"1\" class=\"dataframe\">\n",
       "  <thead>\n",
       "    <tr style=\"text-align: right;\">\n",
       "      <th></th>\n",
       "      <th>Match_ID_Home</th>\n",
       "      <th>Match_ID_Away</th>\n",
       "      <th>Total_Wins</th>\n",
       "      <th>Draws</th>\n",
       "      <th>Total_Losses</th>\n",
       "    </tr>\n",
       "    <tr>\n",
       "      <th>HomeTeam</th>\n",
       "      <th></th>\n",
       "      <th></th>\n",
       "      <th></th>\n",
       "      <th></th>\n",
       "      <th></th>\n",
       "    </tr>\n",
       "  </thead>\n",
       "  <tbody>\n",
       "    <tr>\n",
       "      <th>Aachen</th>\n",
       "      <td>4</td>\n",
       "      <td>2</td>\n",
       "      <td>6</td>\n",
       "      <td>7</td>\n",
       "      <td>6</td>\n",
       "    </tr>\n",
       "    <tr>\n",
       "      <th>Arsenal</th>\n",
       "      <td>12</td>\n",
       "      <td>9</td>\n",
       "      <td>21</td>\n",
       "      <td>3</td>\n",
       "      <td>21</td>\n",
       "    </tr>\n",
       "    <tr>\n",
       "      <th>Aston Villa</th>\n",
       "      <td>4</td>\n",
       "      <td>3</td>\n",
       "      <td>7</td>\n",
       "      <td>10</td>\n",
       "      <td>7</td>\n",
       "    </tr>\n",
       "    <tr>\n",
       "      <th>Augsburg</th>\n",
       "      <td>6</td>\n",
       "      <td>2</td>\n",
       "      <td>8</td>\n",
       "      <td>7</td>\n",
       "      <td>8</td>\n",
       "    </tr>\n",
       "    <tr>\n",
       "      <th>Bayern Munich</th>\n",
       "      <td>14</td>\n",
       "      <td>9</td>\n",
       "      <td>23</td>\n",
       "      <td>3</td>\n",
       "      <td>23</td>\n",
       "    </tr>\n",
       "  </tbody>\n",
       "</table>\n",
       "</div>"
      ],
      "text/plain": [
       "               Match_ID_Home  Match_ID_Away  Total_Wins  Draws  Total_Losses\n",
       "HomeTeam                                                                    \n",
       "Aachen                     4              2           6      7             6\n",
       "Arsenal                   12              9          21      3            21\n",
       "Aston Villa                4              3           7     10             7\n",
       "Augsburg                   6              2           8      7             8\n",
       "Bayern Munich             14              9          23      3            23"
      ]
     },
     "execution_count": 12,
     "metadata": {},
     "output_type": "execute_result"
    }
   ],
   "source": [
    "df_wins.head()"
   ]
  },
  {
   "cell_type": "code",
   "execution_count": 14,
   "metadata": {},
   "outputs": [],
   "source": [
    "from pandasql import sqldf\n",
    "pysqldf = lambda q: sqldf(q, globals())\n",
    "\n",
    "q =\"\"\"SELECT Match_Id, AwayTeam, Count(HomeTeam), HomeTeam\n",
    "        FROM df\n",
    "        GROUP BY HomeTeam\n",
    "    \"\"\"\n",
    "\n",
    "\n",
    "results = pysqldf(q)"
   ]
  },
  {
   "cell_type": "code",
   "execution_count": null,
   "metadata": {},
   "outputs": [],
   "source": []
  },
  {
   "cell_type": "code",
   "execution_count": null,
   "metadata": {},
   "outputs": [],
   "source": [
    "ts.get('https://api.darksky.net/forecast/958870d7f05d6ce07081ed0698de9eca/13.404954,52.520008,{}?exclude=currently,flags,minutely,hourly,alerts'.format(Timestamp))\n",
    "r.json()"
   ]
  },
  {
   "cell_type": "code",
   "execution_count": null,
   "metadata": {},
   "outputs": [],
   "source": []
  },
  {
   "cell_type": "code",
   "execution_count": 10,
   "metadata": {},
   "outputs": [],
   "source": [
    "import requests\n",
    "import json\n",
    "\n",
    "r = requests.get('https://api.darksky.net/forecast/958870d7f05d6ce07081ed0698de9eca/13.404954,52.520008,1572548834')\n",
    "a = r.json()"
   ]
  },
  {
   "cell_type": "code",
   "execution_count": 11,
   "metadata": {},
   "outputs": [
    {
     "data": {
      "text/plain": [
       "'Clear'"
      ]
     },
     "execution_count": 11,
     "metadata": {},
     "output_type": "execute_result"
    }
   ],
   "source": [
    "a[\"currently\"][\"summary\"]"
   ]
  },
  {
   "cell_type": "code",
   "execution_count": null,
   "metadata": {},
   "outputs": [],
   "source": [
    "for stamp in Timestam"
   ]
  },
  {
   "cell_type": "code",
   "execution_count": 7,
   "metadata": {},
   "outputs": [
    {
     "ename": "KeyError",
     "evalue": "'currently'",
     "output_type": "error",
     "traceback": [
      "\u001b[0;31m---------------------------------------------------------------------------\u001b[0m",
      "\u001b[0;31mKeyError\u001b[0m                                  Traceback (most recent call last)",
      "\u001b[0;32m<ipython-input-7-629e138bb72a>\u001b[0m in \u001b[0;36m<module>\u001b[0;34m\u001b[0m\n\u001b[1;32m     10\u001b[0m \u001b[0;32mfor\u001b[0m \u001b[0mdate\u001b[0m \u001b[0;32min\u001b[0m \u001b[0mlisto\u001b[0m\u001b[0;34m:\u001b[0m\u001b[0;34m\u001b[0m\u001b[0;34m\u001b[0m\u001b[0m\n\u001b[1;32m     11\u001b[0m     \u001b[0mcall_weather\u001b[0m \u001b[0;34m=\u001b[0m \u001b[0mrequests\u001b[0m\u001b[0;34m.\u001b[0m\u001b[0mget\u001b[0m\u001b[0;34m(\u001b[0m\u001b[0;34mf\"https://api.darksky.net/forecast/4b592733b07f4d93b5f8e9f7b1daf53f/52.5200,13.4050,{date}\"\u001b[0m\u001b[0;34m)\u001b[0m\u001b[0;34m.\u001b[0m\u001b[0mjson\u001b[0m\u001b[0;34m(\u001b[0m\u001b[0;34m)\u001b[0m\u001b[0;34m\u001b[0m\u001b[0;34m\u001b[0m\u001b[0m\n\u001b[0;32m---> 12\u001b[0;31m     \u001b[0mweather_type\u001b[0m\u001b[0;34m=\u001b[0m\u001b[0mcall_weather\u001b[0m\u001b[0;34m[\u001b[0m\u001b[0;34m\"currently\"\u001b[0m\u001b[0;34m]\u001b[0m\u001b[0;34m[\u001b[0m\u001b[0;34m\"summary\"\u001b[0m\u001b[0;34m]\u001b[0m\u001b[0;34m\u001b[0m\u001b[0;34m\u001b[0m\u001b[0m\n\u001b[0m\u001b[1;32m     13\u001b[0m     \u001b[0mweather_dates\u001b[0m\u001b[0;34m[\u001b[0m\u001b[0mdate\u001b[0m\u001b[0;34m]\u001b[0m\u001b[0;34m=\u001b[0m\u001b[0mweather_type\u001b[0m\u001b[0;34m\u001b[0m\u001b[0;34m\u001b[0m\u001b[0m\n\u001b[1;32m     14\u001b[0m \u001b[0;34m\u001b[0m\u001b[0m\n",
      "\u001b[0;31mKeyError\u001b[0m: 'currently'"
     ]
    }
   ],
   "source": [
    "unique_dates=cur.execute(\"SELECT DISTINCT Date FROM Matches WHERE Season IS 2011;\").fetchall()\n",
    "\n",
    "listo=[]\n",
    "for date in unique_dates:\n",
    "   for datetime in date:\n",
    "       listo.append(datetime + \"T13:00:00\")\n",
    "listo\n",
    "\n",
    "weather_dates={}\n",
    "for date in listo:\n",
    "    call_weather = requests.get(f\"https://api.darksky.net/forecast/4b592733b07f4d93b5f8e9f7b1daf53f/52.5200,13.4050,{date}\").json()\n",
    "    weather_type=call_weather[\"currently\"][\"summary\"]\n",
    "    weather_dates[date]=weather_type\n",
    "\n",
    "    \n",
    "# and then did this to get rid of the Time in the date so we can match it back to our \"matches\" table:\n",
    "\n",
    "weather_dates_day=[]\n",
    "for date in weather_dates:\n",
    "   weather_dates_day[date[:10]]=weather_dates[date]\n",
    "weather_dates_day"
   ]
  },
  {
   "cell_type": "code",
   "execution_count": null,
   "metadata": {},
   "outputs": [],
   "source": [
    "weather_dates"
   ]
  },
  {
   "cell_type": "code",
   "execution_count": null,
   "metadata": {},
   "outputs": [],
   "source": []
  },
  {
   "cell_type": "code",
   "execution_count": null,
   "metadata": {},
   "outputs": [],
   "source": []
  },
  {
   "cell_type": "code",
   "execution_count": null,
   "metadata": {},
   "outputs": [],
   "source": []
  }
 ],
 "metadata": {
  "kernelspec": {
   "display_name": "Python 3",
   "language": "python",
   "name": "python3"
  },
  "language_info": {
   "codemirror_mode": {
    "name": "ipython",
    "version": 3
   },
   "file_extension": ".py",
   "mimetype": "text/x-python",
   "name": "python",
   "nbconvert_exporter": "python",
   "pygments_lexer": "ipython3",
   "version": "3.7.3"
  }
 },
 "nbformat": 4,
 "nbformat_minor": 2
}
