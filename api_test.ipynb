{
 "cells": [
  {
   "cell_type": "code",
   "execution_count": 25,
   "metadata": {},
   "outputs": [],
   "source": [
    "import requests\n",
    "import json\n",
    "\n",
    "r = requests.get('https://api.darksky.net/forecast/958870d7f05d6ce07081ed0698de9eca/13.404954,52.520008,1572548834?exclude=currently,flags,minutely,hourly,alerts')\n",
    "a = r.json()"
   ]
  },
  {
   "cell_type": "code",
   "execution_count": 39,
   "metadata": {},
   "outputs": [
    {
     "data": {
      "text/plain": [
       "[{'time': 1572469200,\n",
       "  'summary': 'Clear throughout the day.',\n",
       "  'icon': 'clear-day',\n",
       "  'sunriseTime': 1572488700,\n",
       "  'sunsetTime': 1572530700,\n",
       "  'moonPhase': 0.13,\n",
       "  'precipIntensity': 0,\n",
       "  'precipIntensityMax': 0.0002,\n",
       "  'precipIntensityMaxTime': 1572548400,\n",
       "  'precipProbability': 0.02,\n",
       "  'temperatureHigh': 83.85,\n",
       "  'temperatureHighTime': 1572523020,\n",
       "  'temperatureLow': 80.99,\n",
       "  'temperatureLowTime': 1572559140,\n",
       "  'apparentTemperatureHigh': 86.75,\n",
       "  'apparentTemperatureHighTime': 1572516180,\n",
       "  'apparentTemperatureLow': 85.09,\n",
       "  'apparentTemperatureLowTime': 1572543960,\n",
       "  'dewPoint': 69.53,\n",
       "  'humidity': 0.66,\n",
       "  'pressure': 1009.8,\n",
       "  'windSpeed': 11.22,\n",
       "  'windGust': 14.91,\n",
       "  'windGustTime': 1572512460,\n",
       "  'windBearing': 228,\n",
       "  'cloudCover': 0.26,\n",
       "  'uvIndex': 9,\n",
       "  'uvIndexTime': 1572510060,\n",
       "  'visibility': 10,\n",
       "  'ozone': 264.7,\n",
       "  'temperatureMin': 80.27,\n",
       "  'temperatureMinTime': 1572473580,\n",
       "  'temperatureMax': 83.85,\n",
       "  'temperatureMaxTime': 1572523020,\n",
       "  'apparentTemperatureMin': 84.45,\n",
       "  'apparentTemperatureMinTime': 1572479880,\n",
       "  'apparentTemperatureMax': 86.75,\n",
       "  'apparentTemperatureMaxTime': 1572516180}]"
      ]
     },
     "execution_count": 39,
     "metadata": {},
     "output_type": "execute_result"
    }
   ],
   "source": [
    "a['daily']['data']"
   ]
  },
  {
   "cell_type": "code",
   "execution_count": 40,
   "metadata": {},
   "outputs": [
    {
     "ename": "NameError",
     "evalue": "name 'df' is not defined",
     "output_type": "error",
     "traceback": [
      "\u001b[0;31m---------------------------------------------------------------------------\u001b[0m",
      "\u001b[0;31mNameError\u001b[0m                                 Traceback (most recent call last)",
      "\u001b[0;32m<ipython-input-40-8ba9a3da674d>\u001b[0m in \u001b[0;36m<module>\u001b[0;34m\u001b[0m\n\u001b[0;32m----> 1\u001b[0;31m \u001b[0mstamps\u001b[0m \u001b[0;34m=\u001b[0m \u001b[0mlist\u001b[0m\u001b[0;34m(\u001b[0m\u001b[0mdf\u001b[0m\u001b[0;34m[\u001b[0m\u001b[0;34m'Timestamps'\u001b[0m\u001b[0;34m]\u001b[0m\u001b[0;34m)\u001b[0m\u001b[0;34m\u001b[0m\u001b[0;34m\u001b[0m\u001b[0m\n\u001b[0m\u001b[1;32m      2\u001b[0m \u001b[0mweather_dates\u001b[0m\u001b[0;34m=\u001b[0m\u001b[0;34m{\u001b[0m\u001b[0;34m}\u001b[0m\u001b[0;34m\u001b[0m\u001b[0;34m\u001b[0m\u001b[0m\n\u001b[1;32m      3\u001b[0m \u001b[0;34m\u001b[0m\u001b[0m\n\u001b[1;32m      4\u001b[0m \u001b[0;32mfor\u001b[0m \u001b[0mstamp\u001b[0m \u001b[0;32min\u001b[0m \u001b[0mstamps\u001b[0m\u001b[0;34m:\u001b[0m\u001b[0;34m\u001b[0m\u001b[0;34m\u001b[0m\u001b[0m\n\u001b[1;32m      5\u001b[0m     \u001b[0mcall_weather\u001b[0m \u001b[0;34m=\u001b[0m \u001b[0mrequests\u001b[0m\u001b[0;34m.\u001b[0m\u001b[0mget\u001b[0m\u001b[0;34m(\u001b[0m\u001b[0;34mf\"https://api.darksky.net/forecast/4b592733b07f4d93b5f8e9f7b1daf53f/52.5200,13.4050,{stamp}\"\u001b[0m\u001b[0;34m)\u001b[0m\u001b[0;34m.\u001b[0m\u001b[0mjson\u001b[0m\u001b[0;34m(\u001b[0m\u001b[0;34m)\u001b[0m\u001b[0;34m\u001b[0m\u001b[0;34m\u001b[0m\u001b[0m\n",
      "\u001b[0;31mNameError\u001b[0m: name 'df' is not defined"
     ]
    }
   ],
   "source": [
    "stamps = list(df['Timestamps'])\n",
    "weather_dates={}\n",
    "\n",
    "for stamp in stamps:\n",
    "    call_weather = requests.get(f\"https://api.darksky.net/forecast/4b592733b07f4d93b5f8e9f7b1daf53f/52.5200,13.4050,{stamp}\").json()\n",
    "    print(call_weather)\n",
    "#     weather_type=call_weather[\"currently\"][\"summary\"]\n",
    "#     weather_dates[date]=weather_type\n",
    "\n",
    "    \n",
    "# and then did this to get rid of the Time in the date so we can match it back to our \"matches\" table:\n",
    "\n",
    "# weather_dates_day={}\n",
    "# for date in weather_dates:\n",
    "#    weather_dates_day[date[:10]]=weather_dates[date]\n",
    "# weather_dates_day"
   ]
  },
  {
   "cell_type": "code",
   "execution_count": null,
   "metadata": {},
   "outputs": [],
   "source": []
  }
 ],
 "metadata": {
  "kernelspec": {
   "display_name": "Python 3",
   "language": "python",
   "name": "python3"
  },
  "language_info": {
   "codemirror_mode": {
    "name": "ipython",
    "version": 3
   },
   "file_extension": ".py",
   "mimetype": "text/x-python",
   "name": "python",
   "nbconvert_exporter": "python",
   "pygments_lexer": "ipython3",
   "version": "3.7.3"
  }
 },
 "nbformat": 4,
 "nbformat_minor": 2
}
