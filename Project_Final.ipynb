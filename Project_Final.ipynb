{
 "cells": [
  {
   "cell_type": "code",
   "execution_count": 31,
   "metadata": {},
   "outputs": [],
   "source": [
    "import pymongo\n",
    "import lib\n",
    "\n",
    "myclient = pymongo.MongoClient('mongodb://localhost:27017')\n",
    "mydb = myclient['football_db']"
   ]
  },
  {
   "cell_type": "code",
   "execution_count": 32,
   "metadata": {},
   "outputs": [],
   "source": [
    "class MongoHandler():\n",
    "    \n",
    "    def __init__(self, dbname):\n",
    "        self.myclient = pymongo.MongoClient(\"mongodb://127.0.0.1:27017/\")\n",
    "        self.db = self.myclient[dbname]\n",
    "   \n",
    "   \n",
    "    \n",
    "    def create_doc(self, team_name, total_goals, total_wins, win_percentage):\n",
    "        dic={}\n",
    "        dic['Team_Name']= team_name \n",
    "        dic['total_goals']= total_goals\n",
    "        dic['total wins']= total_wins\n",
    "        dic['win_percentage']= win_percentage\n",
    "        return self.collection.insert_one(dic)\n",
    "            "
   ]
  },
  {
   "cell_type": "code",
   "execution_count": 33,
   "metadata": {},
   "outputs": [],
   "source": [
    "Team1 = {'Team': 'Arsenal', 'Wins':'6', 'Losses': '6'}\n",
    "record = Team1\n",
    "insertion_results = mycollection.insert_one(record)"
   ]
  },
  {
   "cell_type": "code",
   "execution_count": 34,
   "metadata": {},
   "outputs": [
    {
     "data": {
      "text/plain": [
       "{'Team': 'Arsenal',\n",
       " 'Wins': '6',\n",
       " 'Losses': '6',\n",
       " '_id': ObjectId('5dbfe6abb281730096a06617')}"
      ]
     },
     "execution_count": 34,
     "metadata": {},
     "output_type": "execute_result"
    }
   ],
   "source": [
    "Team1"
   ]
  },
  {
   "cell_type": "code",
   "execution_count": null,
   "metadata": {},
   "outputs": [],
   "source": []
  }
 ],
 "metadata": {
  "kernelspec": {
   "display_name": "Python 3",
   "language": "python",
   "name": "python3"
  },
  "language_info": {
   "codemirror_mode": {
    "name": "ipython",
    "version": 3
   },
   "file_extension": ".py",
   "mimetype": "text/x-python",
   "name": "python",
   "nbconvert_exporter": "python",
   "pygments_lexer": "ipython3",
   "version": "3.7.3"
  }
 },
 "nbformat": 4,
 "nbformat_minor": 2
}
